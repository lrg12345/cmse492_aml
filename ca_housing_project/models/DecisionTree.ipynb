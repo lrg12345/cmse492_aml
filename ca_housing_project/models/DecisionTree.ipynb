{
 "cells": [
  {
   "cell_type": "code",
   "execution_count": null,
   "id": "46996905-493b-4d7b-9b9b-149f273a97d9",
   "metadata": {},
   "outputs": [],
   "source": [
    "# Data Loading\n",
    "\n",
    "import pandas as pd\n",
    "\n",
    "# Load processed training set (24 features)\n",
    "TRAIN_PATH = \"../data/train\"\n",
    "PROCESSED_TRAIN_FILE = f\"{TRAIN_PATH}/housing_train_processed.csv\"\n",
    "\n",
    "housing = pd.read_csv(PROCESSED_TRAIN_FILE)\n",
    "\n",
    "# Split features/labels\n",
    "X = housing.drop(\"median_house_value\", axis=1)\n",
    "y = housing[\"median_house_value\"]\n",
    "\n",
    "X.head()\n",
    "y.head()"
   ]
  },
  {
   "cell_type": "code",
   "execution_count": null,
   "id": "d0a1ee78-4240-4bfd-b077-4f63fbfde11d",
   "metadata": {},
   "outputs": [],
   "source": [
    "# Model Fitting\n",
    "\n",
    "from sklearn.tree import DecisionTreeRegressor\n",
    "from sklearn.metrics import mean_squared_error\n",
    "import numpy as np\n",
    "\n",
    "# Initialize and fit model\n",
    "tree_reg = DecisionTreeRegressor(random_state=42)\n",
    "tree_reg.fit(X, y)\n",
    "\n",
    "# Display basic training results\n",
    "y_pred_train = tree_reg.predict(X)\n",
    "rmse_train = np.sqrt(mean_squared_error(y, y_pred_train))\n",
    "print(f\"Training RMSE: {rmse_train:.2f}\")"
   ]
  },
  {
   "cell_type": "code",
   "execution_count": null,
   "id": "cb12be1f-e743-4c8f-878f-e6baa76ce1fb",
   "metadata": {},
   "outputs": [],
   "source": [
    "# Cross-Validation\n",
    "\n",
    "from sklearn.model_selection import cross_val_score\n",
    "\n",
    "# 10-fold cross-validation\n",
    "scores = cross_val_score(tree_reg, X, y,\n",
    "                         scoring=\"neg_mean_squared_error\", cv=10)\n",
    "rmse_scores = np.sqrt(-scores)\n",
    "\n",
    "print(\"Cross-validation RMSE scores:\", rmse_scores)\n",
    "print(\"Mean:\", rmse_scores.mean())\n",
    "print(\"Standard deviation:\", rmse_scores.std())"
   ]
  },
  {
   "cell_type": "code",
   "execution_count": null,
   "id": "fc62c705-6fca-4fb0-9d55-b675528a2b0c",
   "metadata": {},
   "outputs": [],
   "source": [
    "# Hyperparameter Tuning\n",
    "\n",
    "from sklearn.model_selection import GridSearchCV\n",
    "\n",
    "# Grid search for max_depth and min_samples_split\n",
    "param_grid = {\n",
    "    \"max_depth\": [None, 5, 10, 20],\n",
    "    \"min_samples_split\": [2, 5, 10],\n",
    "    \"min_samples_leaf\": [1, 2, 4]\n",
    "}\n",
    "\n",
    "grid_search = GridSearchCV(DecisionTreeRegressor(random_state=42),\n",
    "                           param_grid, scoring=\"neg_mean_squared_error\", cv=5)\n",
    "grid_search.fit(X, y)\n",
    "\n",
    "print(\"Best parameters:\", grid_search.best_params_)\n",
    "best_model = grid_search.best_estimator_\n",
    "\n",
    "# Evaluate best model\n",
    "y_pred_best = best_model.predict(X)\n",
    "rmse_best = np.sqrt(mean_squared_error(y, y_pred_best))\n",
    "print(f\"Training RMSE with best parameters: {rmse_best:.2f}\")"
   ]
  },
  {
   "cell_type": "code",
   "execution_count": null,
   "id": "8a01ad5e-5126-4cd1-8125-0aecd588e72d",
   "metadata": {},
   "outputs": [],
   "source": [
    "# Model Saving\n",
    "\n",
    "import joblib\n",
    "import os\n",
    "\n",
    "# Save trained model\n",
    "MODELS_PATH = \"../models\"\n",
    "os.makedirs(MODELS_PATH, exist_ok=True)\n",
    "\n",
    "model_file = os.path.join(MODELS_PATH, \"decision_tree_model.pkl\")\n",
    "joblib.dump(best_model, model_file)\n",
    "print(f\"Model saved to {model_file}\")"
   ]
  }
 ],
 "metadata": {
  "kernelspec": {
   "display_name": "Python (cmse492)",
   "language": "python",
   "name": "cmse492"
  },
  "language_info": {
   "codemirror_mode": {
    "name": "ipython",
    "version": 3
   },
   "file_extension": ".py",
   "mimetype": "text/x-python",
   "name": "python",
   "nbconvert_exporter": "python",
   "pygments_lexer": "ipython3",
   "version": "3.12.11"
  }
 },
 "nbformat": 4,
 "nbformat_minor": 5
}
