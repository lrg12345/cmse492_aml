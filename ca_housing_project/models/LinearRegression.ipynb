{
 "cells": [
  {
   "cell_type": "code",
   "execution_count": null,
   "id": "0efc3d61-20a0-468d-99c1-1332fbff3838",
   "metadata": {},
   "outputs": [],
   "source": [
    "# Data Loading\n",
    "\n",
    "import pandas as pd\n",
    "\n",
    "# Load processed training set (24 features)\n",
    "TRAIN_PATH = \"../data/train\"\n",
    "PROCESSED_TRAIN_FILE = f\"{TRAIN_PATH}/housing_train_processed.csv\"\n",
    "\n",
    "housing = pd.read_csv(PROCESSED_TRAIN_FILE)\n",
    "\n",
    "# Split features/labels\n",
    "X = housing.drop(\"median_house_value\", axis=1)\n",
    "y = housing[\"median_house_value\"]\n",
    "\n",
    "X.head()\n",
    "y.head()"
   ]
  },
  {
   "cell_type": "code",
   "execution_count": null,
   "id": "177f8bc3-d31d-478d-b91c-f14054e21777",
   "metadata": {},
   "outputs": [],
   "source": [
    "# Model Fitting\n",
    "\n",
    "from sklearn.linear_model import LinearRegression\n",
    "from sklearn.metrics import mean_squared_error\n",
    "import numpy as np\n",
    "\n",
    "# Initialize and fit model\n",
    "lin_reg = LinearRegression()\n",
    "lin_reg.fit(X, y)\n",
    "\n",
    "# Display basic training results\n",
    "y_pred_train = lin_reg.predict(X)\n",
    "rmse_train = np.sqrt(mean_squared_error(y, y_pred_train))\n",
    "print(f\"Training RMSE: {rmse_train:.2f}\")"
   ]
  },
  {
   "cell_type": "code",
   "execution_count": null,
   "id": "1a7336c5-6521-4c37-b22a-0f8dca16d989",
   "metadata": {},
   "outputs": [],
   "source": [
    "# Cross-Validation\n",
    "\n",
    "from sklearn.model_selection import cross_val_score\n",
    "\n",
    "# 10-fold cross-validation\n",
    "scores = cross_val_score(lin_reg, X, y,\n",
    "                         scoring=\"neg_mean_squared_error\", cv=10)\n",
    "rmse_scores = np.sqrt(-scores)\n",
    "\n",
    "print(\"Cross-validation RMSE scores:\", rmse_scores)\n",
    "print(\"Mean:\", rmse_scores.mean())\n",
    "print(\"Standard deviation:\", rmse_scores.std())"
   ]
  },
  {
   "cell_type": "code",
   "execution_count": null,
   "id": "ee54abeb-b4b0-4e44-bb8f-2e0be4eeb3c7",
   "metadata": {},
   "outputs": [],
   "source": [
    "# Hyperparameter Tuning\n",
    "\n",
    "from sklearn.model_selection import GridSearchCV\n",
    "\n",
    "# LinearRegression has few hyperparameters, but we can grid-search fit_intercept and normalize\n",
    "param_grid = {\n",
    "    \"fit_intercept\": [True, False],\n",
    "    \"positive\": [True, False]  # if using scikit-learn >=1.1\n",
    "}\n",
    "\n",
    "grid_search = GridSearchCV(LinearRegression(), param_grid, \n",
    "                           scoring=\"neg_mean_squared_error\", cv=5)\n",
    "grid_search.fit(X, y)\n",
    "\n",
    "print(\"Best parameters:\", grid_search.best_params_)\n",
    "best_model = grid_search.best_estimator_\n",
    "\n",
    "# Evaluate best model\n",
    "y_pred_best = best_model.predict(X)\n",
    "rmse_best = np.sqrt(mean_squared_error(y, y_pred_best))\n",
    "print(f\"Training RMSE with best parameters: {rmse_best:.2f}\")"
   ]
  },
  {
   "cell_type": "code",
   "execution_count": null,
   "id": "a57b48d8-b9e8-4454-b849-b9ed2e23c973",
   "metadata": {},
   "outputs": [],
   "source": [
    "# Model Saving\n",
    "\n",
    "import joblib\n",
    "import os\n",
    "\n",
    "# Save trained model\n",
    "MODELS_PATH = \"../models\"\n",
    "os.makedirs(MODELS_PATH, exist_ok=True)\n",
    "\n",
    "model_file = os.path.join(MODELS_PATH, \"linear_regression_model.pkl\")\n",
    "joblib.dump(best_model, model_file)\n",
    "print(f\"Model saved to {model_file}\")"
   ]
  }
 ],
 "metadata": {
  "kernelspec": {
   "display_name": "Python (cmse492)",
   "language": "python",
   "name": "cmse492"
  },
  "language_info": {
   "codemirror_mode": {
    "name": "ipython",
    "version": 3
   },
   "file_extension": ".py",
   "mimetype": "text/x-python",
   "name": "python",
   "nbconvert_exporter": "python",
   "pygments_lexer": "ipython3",
   "version": "3.12.11"
  }
 },
 "nbformat": 4,
 "nbformat_minor": 5
}
