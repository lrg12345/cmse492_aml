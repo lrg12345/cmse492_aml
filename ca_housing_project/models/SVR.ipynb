{
 "cells": [
  {
   "cell_type": "code",
   "execution_count": null,
   "id": "a028cc94-9149-4ed5-a1d7-070186b482e2",
   "metadata": {},
   "outputs": [],
   "source": [
    "# Data Loading\n",
    "\n",
    "import pandas as pd\n",
    "\n",
    "# Load processed training set (24 features)\n",
    "TRAIN_PATH = \"../data/train\"\n",
    "PROCESSED_TRAIN_FILE = f\"{TRAIN_PATH}/housing_train_processed.csv\"\n",
    "\n",
    "housing = pd.read_csv(PROCESSED_TRAIN_FILE)\n",
    "\n",
    "# Split features/labels\n",
    "X = housing.drop(\"median_house_value\", axis=1)\n",
    "y = housing[\"median_house_value\"]\n",
    "\n",
    "X.head()\n",
    "y.head()"
   ]
  },
  {
   "cell_type": "code",
   "execution_count": null,
   "id": "862cfab0-b23f-474a-b69f-8cb302d6dceb",
   "metadata": {},
   "outputs": [],
   "source": [
    "# Model Fitting\n",
    "\n",
    "from sklearn.svm import SVR\n",
    "from sklearn.preprocessing import StandardScaler\n",
    "from sklearn.metrics import mean_squared_error\n",
    "import numpy as np\n",
    "\n",
    "# Scale features for SVR\n",
    "scaler = StandardScaler()\n",
    "X_scaled = scaler.fit_transform(X)\n",
    "\n",
    "# Initialize and fit model\n",
    "svr_reg = SVR(kernel=\"rbf\", C=100, gamma=0.1)\n",
    "svr_reg.fit(X_scaled, y)\n",
    "\n",
    "# Display basic training results\n",
    "y_pred_train = svr_reg.predict(X_scaled)\n",
    "rmse_train = np.sqrt(mean_squared_error(y, y_pred_train))\n",
    "print(f\"Training RMSE: {rmse_train:.2f}\")"
   ]
  },
  {
   "cell_type": "code",
   "execution_count": null,
   "id": "a3a74a7c-ff13-4163-8f91-ee4219cedfa9",
   "metadata": {},
   "outputs": [],
   "source": [
    "# Cross-Validation\n",
    "\n",
    "from sklearn.model_selection import cross_val_score\n",
    "\n",
    "# 10-fold cross-validation\n",
    "scores = cross_val_score(svr_reg, X_scaled, y,\n",
    "                         scoring=\"neg_mean_squared_error\", cv=10)\n",
    "rmse_scores = np.sqrt(-scores)\n",
    "\n",
    "print(\"Cross-validation RMSE scores:\", rmse_scores)\n",
    "print(\"Mean:\", rmse_scores.mean())\n",
    "print(\"Standard deviation:\", rmse_scores.std())"
   ]
  },
  {
   "cell_type": "code",
   "execution_count": null,
   "id": "14360ddb-1c89-491f-b55d-69f23dbcb7b6",
   "metadata": {},
   "outputs": [],
   "source": [
    "# Hyperparameter Tuning\n",
    "\n",
    "from sklearn.model_selection import GridSearchCV\n",
    "\n",
    "# Grid search for C, gamma, and kernel\n",
    "param_grid = {\n",
    "    \"C\": [1, 10, 100],\n",
    "    \"gamma\": [0.01, 0.1, 0.5],\n",
    "    \"kernel\": [\"rbf\", \"linear\"]\n",
    "}\n",
    "\n",
    "grid_search = GridSearchCV(SVR(), param_grid,\n",
    "                           scoring=\"neg_mean_squared_error\", cv=5)\n",
    "grid_search.fit(X_scaled, y)\n",
    "\n",
    "print(\"Best parameters:\", grid_search.best_params_)\n",
    "best_model = grid_search.best_estimator_\n",
    "\n",
    "# Evaluate best model\n",
    "y_pred_best = best_model.predict(X_scaled)\n",
    "rmse_best = np.sqrt(mean_squared_error(y, y_pred_best))\n",
    "print(f\"Training RMSE with best parameters: {rmse_best:.2f}\")"
   ]
  },
  {
   "cell_type": "code",
   "execution_count": null,
   "id": "4f7b59fa-907d-4b37-803d-8512ea3b496a",
   "metadata": {},
   "outputs": [],
   "source": [
    "# Model Saving\n",
    "\n",
    "import joblib\n",
    "import os\n",
    "\n",
    "# Save trained model\n",
    "MODELS_PATH = \"../models\"\n",
    "os.makedirs(MODELS_PATH, exist_ok=True)\n",
    "\n",
    "model_file = os.path.join(MODELS_PATH, \"svr_model.pkl\")\n",
    "joblib.dump(best_model, model_file)\n",
    "print(f\"Model saved to {model_file}\")"
   ]
  }
 ],
 "metadata": {
  "kernelspec": {
   "display_name": "Python (cmse492)",
   "language": "python",
   "name": "cmse492"
  },
  "language_info": {
   "codemirror_mode": {
    "name": "ipython",
    "version": 3
   },
   "file_extension": ".py",
   "mimetype": "text/x-python",
   "name": "python",
   "nbconvert_exporter": "python",
   "pygments_lexer": "ipython3",
   "version": "3.12.11"
  }
 },
 "nbformat": 4,
 "nbformat_minor": 5
}
