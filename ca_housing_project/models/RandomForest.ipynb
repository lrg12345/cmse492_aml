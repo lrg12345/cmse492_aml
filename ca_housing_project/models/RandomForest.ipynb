{
 "cells": [
  {
   "cell_type": "code",
   "execution_count": null,
   "id": "73ca9ee5-e616-411e-af28-b21d835626de",
   "metadata": {},
   "outputs": [],
   "source": [
    "# Data Loading\n",
    "\n",
    "import pandas as pd\n",
    "\n",
    "# Load processed training set (24 features)\n",
    "TRAIN_PATH = \"../data/train\"\n",
    "PROCESSED_TRAIN_FILE = f\"{TRAIN_PATH}/housing_train_processed.csv\"\n",
    "\n",
    "housing = pd.read_csv(PROCESSED_TRAIN_FILE)\n",
    "\n",
    "# Split features/labels\n",
    "X = housing.drop(\"median_house_value\", axis=1)\n",
    "y = housing[\"median_house_value\"]\n",
    "\n",
    "X.head()\n",
    "y.head()"
   ]
  },
  {
   "cell_type": "code",
   "execution_count": null,
   "id": "c342fb0b-3353-46ba-8356-1a5d97a0a49e",
   "metadata": {},
   "outputs": [],
   "source": [
    "# Model Fitting\n",
    "\n",
    "from sklearn.ensemble import RandomForestRegressor\n",
    "from sklearn.metrics import mean_squared_error\n",
    "import numpy as np\n",
    "\n",
    "# Initialize and fit model\n",
    "forest_reg = RandomForestRegressor(n_estimators=100, random_state=42)\n",
    "forest_reg.fit(X, y)\n",
    "\n",
    "# Display basic training results\n",
    "y_pred_train = forest_reg.predict(X)\n",
    "rmse_train = np.sqrt(mean_squared_error(y, y_pred_train))\n",
    "print(f\"Training RMSE: {rmse_train:.2f}\")"
   ]
  },
  {
   "cell_type": "code",
   "execution_count": null,
   "id": "ab58bda3-684b-491f-89a4-848072ec353f",
   "metadata": {},
   "outputs": [],
   "source": [
    "# Cross-Validation\n",
    "\n",
    "from sklearn.model_selection import cross_val_score\n",
    "\n",
    "# 10-fold cross-validation\n",
    "scores = cross_val_score(forest_reg, X, y,\n",
    "                         scoring=\"neg_mean_squared_error\", cv=10)\n",
    "rmse_scores = np.sqrt(-scores)\n",
    "\n",
    "print(\"Cross-validation RMSE scores:\", rmse_scores)\n",
    "print(\"Mean:\", rmse_scores.mean())\n",
    "print(\"Standard deviation:\", rmse_scores.std())"
   ]
  },
  {
   "cell_type": "code",
   "execution_count": null,
   "id": "1e973f47-a851-4f0d-985f-249245d311ef",
   "metadata": {},
   "outputs": [],
   "source": [
    "# Hyperparameter Tuning\n",
    "\n",
    "from sklearn.model_selection import RandomizedSearchCV\n",
    "import numpy as np\n",
    "\n",
    "# Randomized search for n_estimators, max_features, max_depth, min_samples_split\n",
    "param_distribs = {\n",
    "    \"n_estimators\": [50, 100, 200],\n",
    "    \"max_features\": [\"auto\", \"sqrt\", \"log2\"],\n",
    "    \"max_depth\": [None, 10, 20, 30],\n",
    "    \"min_samples_split\": [2, 5, 10]\n",
    "}\n",
    "\n",
    "rnd_search = RandomizedSearchCV(ForestRegressor=random_state=42,\n",
    "                                param_distributions=param_distribs,\n",
    "                                n_iter=20,\n",
    "                                scoring=\"neg_mean_squared_error\",\n",
    "                                cv=5,\n",
    "                                random_state=42)\n",
    "rnd_search.fit(X, y)\n",
    "\n",
    "print(\"Best parameters:\", rnd_search.best_params_)\n",
    "best_model = rnd_search.best_estimator_\n",
    "\n",
    "# Evaluate best model\n",
    "y_pred_best = best_model.predict(X)\n",
    "rmse_best = np.sqrt(mean_squared_error(y, y_pred_best))\n",
    "print(f\"Training RMSE with best parameters: {rmse_best:.2f}\")"
   ]
  },
  {
   "cell_type": "code",
   "execution_count": null,
   "id": "237afe08-e84a-4ab7-bd65-98fa57b60f1f",
   "metadata": {},
   "outputs": [],
   "source": [
    "# Model Saving\n",
    "\n",
    "import joblib\n",
    "import os\n",
    "\n",
    "# Save trained model\n",
    "MODELS_PATH = \"../models\"\n",
    "os.makedirs(MODELS_PATH, exist_ok=True)\n",
    "\n",
    "model_file = os.path.join(MODELS_PATH, \"random_forest_model.pkl\")\n",
    "joblib.dump(best_model, model_file)\n",
    "print(f\"Model saved to {model_file}\")"
   ]
  }
 ],
 "metadata": {
  "kernelspec": {
   "display_name": "Python (cmse492)",
   "language": "python",
   "name": "cmse492"
  },
  "language_info": {
   "codemirror_mode": {
    "name": "ipython",
    "version": 3
   },
   "file_extension": ".py",
   "mimetype": "text/x-python",
   "name": "python",
   "nbconvert_exporter": "python",
   "pygments_lexer": "ipython3",
   "version": "3.12.11"
  }
 },
 "nbformat": 4,
 "nbformat_minor": 5
}
